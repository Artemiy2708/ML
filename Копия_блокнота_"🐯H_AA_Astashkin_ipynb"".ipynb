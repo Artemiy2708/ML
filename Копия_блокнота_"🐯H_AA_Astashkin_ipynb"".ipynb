{
  "nbformat": 4,
  "nbformat_minor": 0,
  "metadata": {
    "colab": {
      "provenance": [],
      "collapsed_sections": [],
      "include_colab_link": true
    },
    "kernelspec": {
      "name": "python3",
      "display_name": "Python 3"
    },
    "language_info": {
      "name": "python"
    }
  },
  "cells": [
    {
      "cell_type": "markdown",
      "metadata": {
        "id": "view-in-github",
        "colab_type": "text"
      },
      "source": [
        "<a href=\"https://colab.research.google.com/github/Artemiy2708/ML/blob/main/%D0%9A%D0%BE%D0%BF%D0%B8%D1%8F_%D0%B1%D0%BB%D0%BE%D0%BA%D0%BD%D0%BE%D1%82%D0%B0_%22%F0%9F%90%AFH_AA_Astashkin_ipynb%22%22.ipynb\" target=\"_parent\"><img src=\"https://colab.research.google.com/assets/colab-badge.svg\" alt=\"Open In Colab\"/></a>"
      ]
    },
    {
      "cell_type": "markdown",
      "source": [
        "<small><font color=gray>Notebook author: <a href=\"https://www.linkedin.com/in/olegmelnikov/\" target=\"_blank\">Oleg Melnikov</a>, ©<a href=\"https://apps.ep.jhu.edu/course-homepages/3765-605-742-deep-neural-networks\" target=\"_blank\">JHU</a> 2021 onwards</font></small><hr style=\"margin:0;background-color:silver\">\n",
        "\n",
        "# **[2🏆🌌Stellar](https://www.kaggle.com/c/jan-30-22stellar/rules)**\n",
        "\n",
        "See [**instructions**](https://colab.research.google.com/drive/1riOGrE_Fv-yfIbM5V4pgJx4DWcd92cZr#scrollTo=ITaPDPIQEgXV) for running and naming your Colab notebooks.\n",
        "\n"
      ],
      "metadata": {
        "id": "q3pqxgX4DxeH"
      }
    },
    {
      "cell_type": "markdown",
      "source": [],
      "metadata": {
        "id": "_dTfQBUZyNQK"
      }
    },
    {
      "cell_type": "code",
      "source": [
        "from google.colab import drive; drive.mount('/content/drive')   # OK to enable, if your kaggle.json is stored in Google Drive"
      ],
      "metadata": {
        "id": "qrogZ_8bD9tZ",
        "colab": {
          "base_uri": "https://localhost:8080/"
        },
        "outputId": "e4620907-f868-4bd5-bd1b-cd3c563d3656"
      },
      "execution_count": null,
      "outputs": [
        {
          "output_type": "stream",
          "name": "stdout",
          "text": [
            "Mounted at /content/drive\n"
          ]
        }
      ]
    },
    {
      "cell_type": "code",
      "execution_count": null,
      "metadata": {
        "colab": {
          "base_uri": "https://localhost:8080/"
        },
        "id": "d8XoC8VqBXGs",
        "outputId": "4208e832-eaa4-43b5-b12d-7a010981628c"
      },
      "outputs": [
        {
          "output_type": "stream",
          "name": "stdout",
          "text": [
            "- competition is now set to: jan-30-22stellar\n",
            "100% 7.58M/7.58M [00:00<00:00, 259MB/s]\n"
          ]
        }
      ],
      "source": [
        "!pip -q install --upgrade --force-reinstall --no-deps kaggle > log  # upgrade kaggle package (to avoid a warning)\n",
        "!mkdir -p ~/.kaggle                                           # .kaggle folder must contain kaggle.json for kaggle executable to properly authenticate you to Kaggle.com\n",
        "!cp /content/drive/MyDrive/kaggle.json ~/.kaggle/kaggle.json >log  # First, download kaggle.json from kaggle.com (in Account page) and place it in the root of mounted Google Drive\n",
        "#!cp kaggle.json ~/.kaggle/kaggle.json > log                   # Alternative location of kaggle.json (without a connection to Google Drive)\n",
        "!chmod 600 ~/.kaggle/kaggle.json                              # give only the owner full read/write access to kaggle.json\n",
        "!kaggle config set -n competition -v jan-30-22stellar          # set the competition context for the next few kaggle API calls. !kaggle config view - shows current settings\n",
        "!kaggle competitions download >> log                          # download competition dataset as a zip file\n",
        "!unzip -o *.zip >> log                                        # Kaggle dataset is copied as a single file and needs to be unzipped.\n",
        "lb =!kaggle competitions leaderboard --show                        # print public leaderboard"
      ]
    },
    {
      "cell_type": "code",
      "source": [
        "%%time\n",
        "%%capture\n",
        "%reset -f\n",
        "from IPython.core.interactiveshell import InteractiveShell as IS; IS.ast_node_interactivity = \"all\" \n",
        "import numpy as np, pandas as pd, time, matplotlib.pyplot as plt, seaborn as sns, os, tqdm, re, sys, cv2, skimage\n",
        "from sklearn.preprocessing import PolynomialFeatures\n",
        "from sklearn.linear_model import LogisticRegression as LR\n",
        "from sklearn.discriminant_analysis import QuadraticDiscriminantAnalysis as QDA, LinearDiscriminantAnalysis as LDA\n",
        "ToCSV = lambda df, fname: df.round(2).to_csv(f'{fname}.csv', index_label='id') # rounds values to 2 decimals\n",
        "\n",
        "class Timer():\n",
        "  def __init__(self, lim:'RunTimeLimit'=60): self.t0, self.lim, _ = time.time(), lim, print(f'⏳ started. You have {lim} sec. Good luck!')\n",
        "  def ShowTime(self):\n",
        "    msg = f'Runtime is {time.time()-self.t0:.0f} sec'\n",
        "    print(f'\\033[91m\\033[1m' + msg + f' > {self.lim} sec limit!!!\\033[0m' if (time.time()-self.t0-1) > self.lim else msg)\n",
        "\n",
        "np.set_printoptions(linewidth=100, precision=2, edgeitems=2, suppress=True)\n",
        "pd.set_option('max_columns', 20, 'precision', 2, 'display.max_rows', 4)"
      ],
      "metadata": {
        "colab": {
          "base_uri": "https://localhost:8080/"
        },
        "id": "7CyC-JlZFga1",
        "outputId": "2a21a244-fab8-4838-8076-f324c8fe597a"
      },
      "execution_count": null,
      "outputs": [
        {
          "output_type": "stream",
          "name": "stdout",
          "text": [
            "CPU times: user 1.03 s, sys: 144 ms, total: 1.18 s\n",
            "Wall time: 2.17 s\n"
          ]
        }
      ]
    },
    {
      "cell_type": "code",
      "source": [
        "df = pd.read_csv('XY_Stellar.csv'); df"
      ],
      "metadata": {
        "colab": {
          "base_uri": "https://localhost:8080/",
          "height": 233
        },
        "id": "X00bQLb5FpxU",
        "outputId": "8365441e-912f-45ab-f40e-6983d20d9a7a"
      },
      "execution_count": null,
      "outputs": [
        {
          "output_type": "execute_result",
          "data": {
            "text/plain": [
              "         alpha  delta      u      g      r      i      z  run_ID  cam_col  \\\n",
              "0        11.64  21.28  26.28  26.15  24.05  18.87  19.00    8848        5   \n",
              "1       173.09  42.21  22.51  22.83  22.21  19.55  19.96    4156        3   \n",
              "...        ...    ...    ...    ...    ...    ...    ...     ...      ...   \n",
              "199998  131.31  44.27  24.07  24.64  21.63  19.20  19.03    7076        3   \n",
              "199999   22.59   0.25  25.30  25.56  24.09  19.41  19.96    5164        4   \n",
              "\n",
              "        field_ID  redshift  plate    MJD  fiber_ID Class  \n",
              "0            272      0.84   7740  56824       833   NaN  \n",
              "1            486      0.81   9041  58067       428   NaN  \n",
              "...          ...       ...    ...    ...       ...   ...  \n",
              "199998       251      0.55   6014  56166      1021     G  \n",
              "199999       511      1.26   9590  57969       878     G  \n",
              "\n",
              "[200000 rows x 15 columns]"
            ],
            "text/html": [
              "\n",
              "  <div id=\"df-9ba49709-6efc-4553-8ebe-1b10afc61c88\">\n",
              "    <div class=\"colab-df-container\">\n",
              "      <div>\n",
              "<style scoped>\n",
              "    .dataframe tbody tr th:only-of-type {\n",
              "        vertical-align: middle;\n",
              "    }\n",
              "\n",
              "    .dataframe tbody tr th {\n",
              "        vertical-align: top;\n",
              "    }\n",
              "\n",
              "    .dataframe thead th {\n",
              "        text-align: right;\n",
              "    }\n",
              "</style>\n",
              "<table border=\"1\" class=\"dataframe\">\n",
              "  <thead>\n",
              "    <tr style=\"text-align: right;\">\n",
              "      <th></th>\n",
              "      <th>alpha</th>\n",
              "      <th>delta</th>\n",
              "      <th>u</th>\n",
              "      <th>g</th>\n",
              "      <th>r</th>\n",
              "      <th>i</th>\n",
              "      <th>z</th>\n",
              "      <th>run_ID</th>\n",
              "      <th>cam_col</th>\n",
              "      <th>field_ID</th>\n",
              "      <th>redshift</th>\n",
              "      <th>plate</th>\n",
              "      <th>MJD</th>\n",
              "      <th>fiber_ID</th>\n",
              "      <th>Class</th>\n",
              "    </tr>\n",
              "  </thead>\n",
              "  <tbody>\n",
              "    <tr>\n",
              "      <th>0</th>\n",
              "      <td>11.64</td>\n",
              "      <td>21.28</td>\n",
              "      <td>26.28</td>\n",
              "      <td>26.15</td>\n",
              "      <td>24.05</td>\n",
              "      <td>18.87</td>\n",
              "      <td>19.00</td>\n",
              "      <td>8848</td>\n",
              "      <td>5</td>\n",
              "      <td>272</td>\n",
              "      <td>0.84</td>\n",
              "      <td>7740</td>\n",
              "      <td>56824</td>\n",
              "      <td>833</td>\n",
              "      <td>NaN</td>\n",
              "    </tr>\n",
              "    <tr>\n",
              "      <th>1</th>\n",
              "      <td>173.09</td>\n",
              "      <td>42.21</td>\n",
              "      <td>22.51</td>\n",
              "      <td>22.83</td>\n",
              "      <td>22.21</td>\n",
              "      <td>19.55</td>\n",
              "      <td>19.96</td>\n",
              "      <td>4156</td>\n",
              "      <td>3</td>\n",
              "      <td>486</td>\n",
              "      <td>0.81</td>\n",
              "      <td>9041</td>\n",
              "      <td>58067</td>\n",
              "      <td>428</td>\n",
              "      <td>NaN</td>\n",
              "    </tr>\n",
              "    <tr>\n",
              "      <th>...</th>\n",
              "      <td>...</td>\n",
              "      <td>...</td>\n",
              "      <td>...</td>\n",
              "      <td>...</td>\n",
              "      <td>...</td>\n",
              "      <td>...</td>\n",
              "      <td>...</td>\n",
              "      <td>...</td>\n",
              "      <td>...</td>\n",
              "      <td>...</td>\n",
              "      <td>...</td>\n",
              "      <td>...</td>\n",
              "      <td>...</td>\n",
              "      <td>...</td>\n",
              "      <td>...</td>\n",
              "    </tr>\n",
              "    <tr>\n",
              "      <th>199998</th>\n",
              "      <td>131.31</td>\n",
              "      <td>44.27</td>\n",
              "      <td>24.07</td>\n",
              "      <td>24.64</td>\n",
              "      <td>21.63</td>\n",
              "      <td>19.20</td>\n",
              "      <td>19.03</td>\n",
              "      <td>7076</td>\n",
              "      <td>3</td>\n",
              "      <td>251</td>\n",
              "      <td>0.55</td>\n",
              "      <td>6014</td>\n",
              "      <td>56166</td>\n",
              "      <td>1021</td>\n",
              "      <td>G</td>\n",
              "    </tr>\n",
              "    <tr>\n",
              "      <th>199999</th>\n",
              "      <td>22.59</td>\n",
              "      <td>0.25</td>\n",
              "      <td>25.30</td>\n",
              "      <td>25.56</td>\n",
              "      <td>24.09</td>\n",
              "      <td>19.41</td>\n",
              "      <td>19.96</td>\n",
              "      <td>5164</td>\n",
              "      <td>4</td>\n",
              "      <td>511</td>\n",
              "      <td>1.26</td>\n",
              "      <td>9590</td>\n",
              "      <td>57969</td>\n",
              "      <td>878</td>\n",
              "      <td>G</td>\n",
              "    </tr>\n",
              "  </tbody>\n",
              "</table>\n",
              "<p>200000 rows × 15 columns</p>\n",
              "</div>\n",
              "      <button class=\"colab-df-convert\" onclick=\"convertToInteractive('df-9ba49709-6efc-4553-8ebe-1b10afc61c88')\"\n",
              "              title=\"Convert this dataframe to an interactive table.\"\n",
              "              style=\"display:none;\">\n",
              "        \n",
              "  <svg xmlns=\"http://www.w3.org/2000/svg\" height=\"24px\"viewBox=\"0 0 24 24\"\n",
              "       width=\"24px\">\n",
              "    <path d=\"M0 0h24v24H0V0z\" fill=\"none\"/>\n",
              "    <path d=\"M18.56 5.44l.94 2.06.94-2.06 2.06-.94-2.06-.94-.94-2.06-.94 2.06-2.06.94zm-11 1L8.5 8.5l.94-2.06 2.06-.94-2.06-.94L8.5 2.5l-.94 2.06-2.06.94zm10 10l.94 2.06.94-2.06 2.06-.94-2.06-.94-.94-2.06-.94 2.06-2.06.94z\"/><path d=\"M17.41 7.96l-1.37-1.37c-.4-.4-.92-.59-1.43-.59-.52 0-1.04.2-1.43.59L10.3 9.45l-7.72 7.72c-.78.78-.78 2.05 0 2.83L4 21.41c.39.39.9.59 1.41.59.51 0 1.02-.2 1.41-.59l7.78-7.78 2.81-2.81c.8-.78.8-2.07 0-2.86zM5.41 20L4 18.59l7.72-7.72 1.47 1.35L5.41 20z\"/>\n",
              "  </svg>\n",
              "      </button>\n",
              "      \n",
              "  <style>\n",
              "    .colab-df-container {\n",
              "      display:flex;\n",
              "      flex-wrap:wrap;\n",
              "      gap: 12px;\n",
              "    }\n",
              "\n",
              "    .colab-df-convert {\n",
              "      background-color: #E8F0FE;\n",
              "      border: none;\n",
              "      border-radius: 50%;\n",
              "      cursor: pointer;\n",
              "      display: none;\n",
              "      fill: #1967D2;\n",
              "      height: 32px;\n",
              "      padding: 0 0 0 0;\n",
              "      width: 32px;\n",
              "    }\n",
              "\n",
              "    .colab-df-convert:hover {\n",
              "      background-color: #E2EBFA;\n",
              "      box-shadow: 0px 1px 2px rgba(60, 64, 67, 0.3), 0px 1px 3px 1px rgba(60, 64, 67, 0.15);\n",
              "      fill: #174EA6;\n",
              "    }\n",
              "\n",
              "    [theme=dark] .colab-df-convert {\n",
              "      background-color: #3B4455;\n",
              "      fill: #D2E3FC;\n",
              "    }\n",
              "\n",
              "    [theme=dark] .colab-df-convert:hover {\n",
              "      background-color: #434B5C;\n",
              "      box-shadow: 0px 1px 3px 1px rgba(0, 0, 0, 0.15);\n",
              "      filter: drop-shadow(0px 1px 2px rgba(0, 0, 0, 0.3));\n",
              "      fill: #FFFFFF;\n",
              "    }\n",
              "  </style>\n",
              "\n",
              "      <script>\n",
              "        const buttonEl =\n",
              "          document.querySelector('#df-9ba49709-6efc-4553-8ebe-1b10afc61c88 button.colab-df-convert');\n",
              "        buttonEl.style.display =\n",
              "          google.colab.kernel.accessAllowed ? 'block' : 'none';\n",
              "\n",
              "        async function convertToInteractive(key) {\n",
              "          const element = document.querySelector('#df-9ba49709-6efc-4553-8ebe-1b10afc61c88');\n",
              "          const dataTable =\n",
              "            await google.colab.kernel.invokeFunction('convertToInteractive',\n",
              "                                                     [key], {});\n",
              "          if (!dataTable) return;\n",
              "\n",
              "          const docLinkHtml = 'Like what you see? Visit the ' +\n",
              "            '<a target=\"_blank\" href=https://colab.research.google.com/notebooks/data_table.ipynb>data table notebook</a>'\n",
              "            + ' to learn more about interactive tables.';\n",
              "          element.innerHTML = '';\n",
              "          dataTable['output_type'] = 'display_data';\n",
              "          await google.colab.output.renderOutput(dataTable, element);\n",
              "          const docLink = document.createElement('div');\n",
              "          docLink.innerHTML = docLinkHtml;\n",
              "          element.appendChild(docLink);\n",
              "        }\n",
              "      </script>\n",
              "    </div>\n",
              "  </div>\n",
              "  "
            ]
          },
          "metadata": {},
          "execution_count": 4
        }
      ]
    },
    {
      "cell_type": "code",
      "source": [
        "df.info()   # observe datatypes and any missing values"
      ],
      "metadata": {
        "id": "fFp0IV3BJR9_",
        "colab": {
          "base_uri": "https://localhost:8080/"
        },
        "outputId": "d6b208ab-4c06-473b-9adb-78e5722b9d10"
      },
      "execution_count": null,
      "outputs": [
        {
          "output_type": "stream",
          "name": "stdout",
          "text": [
            "<class 'pandas.core.frame.DataFrame'>\n",
            "RangeIndex: 200000 entries, 0 to 199999\n",
            "Data columns (total 15 columns):\n",
            " #   Column    Non-Null Count   Dtype  \n",
            "---  ------    --------------   -----  \n",
            " 0   alpha     200000 non-null  float64\n",
            " 1   delta     200000 non-null  float64\n",
            " 2   u         200000 non-null  float64\n",
            " 3   g         200000 non-null  float64\n",
            " 4   r         200000 non-null  float64\n",
            " 5   i         200000 non-null  float64\n",
            " 6   z         200000 non-null  float64\n",
            " 7   run_ID    200000 non-null  int64  \n",
            " 8   cam_col   200000 non-null  int64  \n",
            " 9   field_ID  200000 non-null  int64  \n",
            " 10  redshift  200000 non-null  float64\n",
            " 11  plate     200000 non-null  int64  \n",
            " 12  MJD       200000 non-null  int64  \n",
            " 13  fiber_ID  200000 non-null  int64  \n",
            " 14  Class     160000 non-null  object \n",
            "dtypes: float64(8), int64(6), object(1)\n",
            "memory usage: 22.9+ MB\n"
          ]
        }
      ]
    },
    {
      "cell_type": "code",
      "source": [
        "# Change string labels to numbers in order of increasing size of the entity (Star < Quasi Star < Galaxy)\n",
        "# df.Class = df.Class.apply(lambda C: -1 if C=='S' else 0 if C=='Q' else 1 if C=='G' else None) "
      ],
      "metadata": {
        "id": "UDA4wJqELlOR"
      },
      "execution_count": null,
      "outputs": []
    },
    {
      "cell_type": "code",
      "source": [
        "vX = df.query('Class!=Class').drop('Class', axis=1)  # slice a test sample\n",
        "tXY = df.query('Class==Class')                       # slice training sample\n",
        "tX, tY = tXY.drop('Class', axis=1), tXY.Class        # split into training I/O"
      ],
      "metadata": {
        "id": "f7OuVizOFsFF"
      },
      "execution_count": null,
      "outputs": []
    },
    {
      "cell_type": "code",
      "source": [
        "def ScatterCorrHist(df):\n",
        "  def corrdot(*args, **kwargs):\n",
        "    # credit: https://stackoverflow.com/questions/48139899\n",
        "    corr_r = args[0].corr(args[1], 'pearson')\n",
        "    corr_text = f\"{corr_r:2.2f}\".replace(\"0.\", \".\")\n",
        "    ax = plt.gca();\n",
        "    ax.set_axis_off();\n",
        "    msz = abs(corr_r) * 5000   # marker size\n",
        "    fsz = abs(corr_r) * 40 + 5 # font size\n",
        "    ax.scatter([.5], [.5], msz, [corr_r], alpha=0.5, cmap='coolwarm', vmin=-1, vmax=1, transform=ax.transAxes)\n",
        "    ax.annotate(corr_text, [.5, .5,],  xycoords=\"axes fraction\", ha='center', va='center', fontsize=fsz)\n",
        "\n",
        "  sns.set(style='white', font_scale=.8);\n",
        "  g = sns.PairGrid(df, aspect=1, diag_sharey=False);\n",
        "  g.fig.set_size_inches(20,10)\n",
        "  g.map_lower(sns.regplot, lowess=True, ci=False, line_kws={'color':'red'}, scatter_kws={'s':1});\n",
        "  g.map_diag(sns.histplot, kde_kws={'color':'black'});\n",
        "  g.map_upper(corrdot);\n",
        "  g.fig.suptitle(\"Scatter plot, Correlations and histograms on diagonal\", y=1);\n",
        "  _ = plt.subplots_adjust(hspace=0.02, wspace=0.02);\n",
        "  _ = plt.show();\n",
        "\n",
        "# ScatterCorrHist(tXY.head(200))"
      ],
      "metadata": {
        "id": "i4gelET6Hb2A"
      },
      "execution_count": null,
      "outputs": []
    },
    {
      "cell_type": "code",
      "source": [
        "tmr = Timer()"
      ],
      "metadata": {
        "id": "z4_C58bbHuja",
        "colab": {
          "base_uri": "https://localhost:8080/"
        },
        "outputId": "616b2c4d-d481-4b9d-a680-561ab7bb2619"
      },
      "execution_count": null,
      "outputs": [
        {
          "output_type": "stream",
          "name": "stdout",
          "text": [
            "⏳ started. You have 60 sec. Good luck!\n"
          ]
        }
      ]
    },
    {
      "cell_type": "markdown",
      "source": [
        "<hr color=red>\n",
        "\n",
        "<font size=5>⏳</font> <strong><font color=orange size=5>Your Code, Documentation, Ideas and Timer - All Start Here...</font></strong>\n",
        "\n",
        "**Student's Section** (between ⏳ symbols): add your code and documentation here."
      ],
      "metadata": {
        "id": "3NcTKbw3KhAn"
      }
    },
    {
      "cell_type": "markdown",
      "metadata": {
        "id": "OpyLNt3god0c"
      },
      "source": [
        "## **Task 1. Preprocessing Pipeline**\n",
        " \n",
        "Explain elements of your preprocessing pipeline i.e. feature engineering, subsampling, clustering, dimensionality reduction, etc. \n",
        "1. Why did you choose these elements? (Something in EDA, prior experience,...? Btw, EDA is not required)\n",
        "1. How do you evaluate the effectiveness of these elements? \n",
        "1. What else have you tried that worked or didn't? "
      ]
    },
    {
      "cell_type": "markdown",
      "metadata": {
        "id": "30xYIFXAnaPE"
      },
      "source": [
        "**Student's answer:**\n",
        "we made outliers clearance as usual using IQR, before checking that we don't have null values in our dataframe. See some graphs , scatterplots noted that we have categorial ordinal variable hided in int, some distributions similar to lognormal, but in modelling approoach I explained what did'n work. I trie to get away from collinearity buy droping rows, and it worked in some , looking in the collinear matrices, however they still have collinear issuues, and I left only 3 features. "
      ]
    },
    {
      "cell_type": "markdown",
      "metadata": {
        "id": "KGJRwzqHob4o"
      },
      "source": [
        "## **Task 2. Modeling Approach**\n",
        "Explain your modeling approach, i.e. ideas you tried and why you thought they would be helpful. \n",
        "\n",
        "1. How did these decisions guide you in modeling?\n",
        "1. How do you evaluate the effectiveness of these elements? \n",
        "1. What else have you tried that worked or didn't? "
      ]
    },
    {
      "cell_type": "markdown",
      "metadata": {
        "id": "zi6ZjgtWnb58"
      },
      "source": [
        "**Student's answer:**\n",
        "qda, lda, and logreg models applied. we were droppping rows, using permutations and seeing which score gives higher ot train test data with labels. Some scaling didn't help, np.log to features with lognormal distributions decreased our score. After finding optimal columns we leave, we try now to drop find optimal hyperparapetrs using gridsearchcv, but is working very long, so don't apply it to all parametres, only to reg_param of qda- 0.1. If we aplly more np.log to lognormal distributions , it should work better than it seems to be due to theory from ISLR, but somehow when we normalize some data we get not the result we wanr ans score decreases. Moreover , i think we did not use ordinality of response variable, i think it should also increase the score a litlle bit, but kaggle stopped working and requires telephone number, so i don't want my work to be nullified for different leaderboard and score here, so i just leave these code commented, but kepp in mind that should increase our score. We did not try to use logreg as ,reading the islr it stated that with gaussian distribution, and here many features are gaussian or can  be trasfered to it it is better to apply lda or qda."
      ]
    },
    {
      "cell_type": "markdown",
      "metadata": {
        "id": "YJs0jS4fIO1j"
      },
      "source": [
        "Below is a baseline model that produces the result on Kaggle leaderboard (LB)."
      ]
    },
    {
      "cell_type": "code",
      "source": [
        "df_predict=df[df['Class'].isna()]\n",
        "df_new=df[df['Class'].notnull()]\n",
        "df_new.isna().sum().sum()"
      ],
      "metadata": {
        "id": "dAZcg7SL4BdU",
        "colab": {
          "base_uri": "https://localhost:8080/"
        },
        "outputId": "b78eeb63-d1fa-431d-b4b6-26cb66379ccb"
      },
      "execution_count": null,
      "outputs": [
        {
          "output_type": "execute_result",
          "data": {
            "text/plain": [
              "0"
            ]
          },
          "metadata": {},
          "execution_count": 10
        }
      ]
    },
    {
      "cell_type": "code",
      "source": [
        "q1_alpha=df_new['alpha'].quantile(0.25)-1.5*(df_new['alpha'].quantile(0.75)-df_new['alpha'].quantile(0.25))\n",
        "q3_alpha=df_new['alpha'].quantile(0.75)+1.5*(df_new['alpha'].quantile(0.75)-df_new['alpha'].quantile(0.25))\n",
        "df_new=df_new.loc[(df_new['alpha']>=q1_alpha) & (df_new['alpha']<=q3_alpha)]\n",
        "\n",
        "q1_delta=df_new['delta'].quantile(0.25)-1.5*(df_new['delta'].quantile(0.75)-df_new['delta'].quantile(0.25))\n",
        "q3_delta=df_new['delta'].quantile(0.75)+1.5*(df_new['delta'].quantile(0.75)-df_new['delta'].quantile(0.25))\n",
        "df_new=df_new.loc[(df_new['delta']>=q1_delta) & (df_new['delta']<=q3_delta)]\n",
        "\n",
        "q1_run_ID\t=df_new['run_ID'].quantile(0.25)-1.5*(df_new['run_ID'].quantile(0.75)-df_new['run_ID'].quantile(0.25))\n",
        "q3_run_ID\t=df_new['run_ID'].quantile(0.75)+1.5*(df_new['run_ID'].quantile(0.75)-df_new['run_ID'].quantile(0.25))\n",
        "df_new=df_new.loc[(df_new['run_ID']>=q1_run_ID) & (df_new['run_ID']<=q3_run_ID)]\n",
        "\n",
        "q1_u=df_new['u'].quantile(0.25)-1.5*(df_new['u'].quantile(0.75)-df_new['u'].quantile(0.25))\n",
        "q3_u=df_new['u'].quantile(0.75)+1.5*(df_new['u'].quantile(0.75)-df_new['u'].quantile(0.25))\n",
        "df_new=df_new.loc[(df_new['u']>=q1_u) & (df_new['u']<=q3_u)]\n",
        "\n",
        "q1_g=df_new['g'].quantile(0.25)-1.5*(df_new['g'].quantile(0.75)-df_new['g'].quantile(0.25))\n",
        "q3_g=df_new['g'].quantile(0.75)+1.5*(df_new['g'].quantile(0.75)-df_new['g'].quantile(0.25))\n",
        "df_new=df_new.loc[(df_new['g']>=q1_g) & (df_new['g']<=q3_g)]\n",
        "\n",
        "q1_z=df_new['z'].quantile(0.25)-1.5*(df_new['z'].quantile(0.75)-df_new['z'].quantile(0.25))\n",
        "q3_z=df_new['z'].quantile(0.75)+1.5*(df_new['z'].quantile(0.75)-df_new['z'].quantile(0.25))\n",
        "df_new=df_new.loc[(df_new['z']>=q1_z) & (df_new['z']<=q3_z) ]\n",
        "\n",
        "q1_i=df_new['i'].quantile(0.25)-1.5*(df_new['i'].quantile(0.75)-df_new['i'].quantile(0.25))\n",
        "q3_i=df_new['i'].quantile(0.75)+1.5*(df_new['i'].quantile(0.75)-df_new['i'].quantile(0.25))\n",
        "df_new=df_new.loc[(df_new['i']>=q1_i) & (df_new['i']<=q3_i) ]\n",
        "\n",
        "q1_r=df_new['r'].quantile(0.25)-1.5*(df_new['r'].quantile(0.75)-df_new['r'].quantile(0.25))\n",
        "q3_r=df_new['r'].quantile(0.75)+1.5*(df_new['r'].quantile(0.75)-df_new['r'].quantile(0.25))\n",
        "df_new=df_new.loc[(df_new['r']>=q1_r) & (df_new['r']<=q3_r) ]"
      ],
      "metadata": {
        "id": "iDirT4yO4BWI"
      },
      "execution_count": null,
      "outputs": []
    },
    {
      "cell_type": "code",
      "source": [
        "import numpy as np, pandas as pd, time, matplotlib.pyplot as plt, seaborn as sns\n",
        "from sklearn.preprocessing import PolynomialFeatures\n",
        "from sklearn.linear_model import LogisticRegression as LR\n",
        "from sklearn.discriminant_analysis import QuadraticDiscriminantAnalysis as QDA, LinearDiscriminantAnalysis as LDA\n",
        "from sklearn.metrics import accuracy_score\n",
        "from sklearn.model_selection import train_test_split as tts\n",
        "#df_new.Class = df_new.Class.apply(lambda C: 1 if C=='S' else 2 if C=='Q' else 3 if C=='G' else None) \n",
        "#df_predict.Class= df_predict.Class.apply(lambda C: 1 if C=='S' else 2 if C=='Q' else 3 if C=='G' else None) \n",
        "#df_new.field_ID=np.log(df_new.field_ID)\n",
        "#df_new.redshift=np.log(df_new.redshift)\n",
        "X_train, X_test, y_train, y_test = tts(\n",
        "    df_new.drop(['Class','run_ID', 'i', 'z', 'r', 'delta', 'field_ID', 'fiber_ID', 'plate'], axis=1), df_new[\"Class\"], test_size=0.2,\n",
        "    random_state=0\n",
        ")\n",
        "poly = PolynomialFeatures(degree=2)    # add non-linear features (powers and interactions)\n",
        "X_train = poly.fit_transform(X_train.select_dtypes(include=np.number))  # create object on training set\n",
        "X_test = poly.transform(X_test.select_dtypes(include=np.number))      # apply the same object to test set\n",
        "vXp  = poly.transform(df_predict.drop(['Class','run_ID', 'delta', 'field_ID', 'fiber_ID', 'i', 'z', 'r', 'plate'], axis=1).select_dtypes(include=np.number))       # apply the same object to test set\n",
        "\n",
        "m = QDA(reg_param=0.1)\n",
        "# m = LR(C=.0001, max_iter=100, n_jobs=-1, multi_class='auto', random_state=0) # always seed your experiments for reproducibility\n",
        "print(m.fit(X_train, y_train).score(X_test, y_test))   # fit the model and show test error"
      ],
      "metadata": {
        "id": "TYmY3hRW4EIZ",
        "colab": {
          "base_uri": "https://localhost:8080/"
        },
        "outputId": "82d3c465-5784-46ef-e6af-7db218e82dd9"
      },
      "execution_count": null,
      "outputs": [
        {
          "output_type": "stream",
          "name": "stderr",
          "text": [
            "/usr/local/lib/python3.7/dist-packages/sklearn/discriminant_analysis.py:878: UserWarning: Variables are collinear\n",
            "  warnings.warn(\"Variables are collinear\")\n"
          ]
        },
        {
          "output_type": "stream",
          "name": "stdout",
          "text": [
            "0.9558364747172754\n"
          ]
        }
      ]
    },
    {
      "cell_type": "code",
      "source": [
        "pY = pd.DataFrame(m.predict(vXp), index=range(1,len(df_predict)+1), columns=['Class'])  # ensure that labels and observations are in corresponding order\n",
        "pY\n",
        "ToCSV = lambda df, fname: df.round(2).to_csv(f'{fname}.csv', index_label='id')\n",
        "ToCSV(pY, 'MySubmission')"
      ],
      "metadata": {
        "id": "7oH2ePX96B33",
        "colab": {
          "base_uri": "https://localhost:8080/",
          "height": 233
        },
        "outputId": "5409ca08-a5fe-4cf1-d58b-f85844030788"
      },
      "execution_count": null,
      "outputs": [
        {
          "output_type": "execute_result",
          "data": {
            "text/plain": [
              "      Class\n",
              "1         G\n",
              "2         Q\n",
              "...     ...\n",
              "39999     G\n",
              "40000     S\n",
              "\n",
              "[40000 rows x 1 columns]"
            ],
            "text/html": [
              "\n",
              "  <div id=\"df-9d171fec-2be5-4173-957f-e11028034ece\">\n",
              "    <div class=\"colab-df-container\">\n",
              "      <div>\n",
              "<style scoped>\n",
              "    .dataframe tbody tr th:only-of-type {\n",
              "        vertical-align: middle;\n",
              "    }\n",
              "\n",
              "    .dataframe tbody tr th {\n",
              "        vertical-align: top;\n",
              "    }\n",
              "\n",
              "    .dataframe thead th {\n",
              "        text-align: right;\n",
              "    }\n",
              "</style>\n",
              "<table border=\"1\" class=\"dataframe\">\n",
              "  <thead>\n",
              "    <tr style=\"text-align: right;\">\n",
              "      <th></th>\n",
              "      <th>Class</th>\n",
              "    </tr>\n",
              "  </thead>\n",
              "  <tbody>\n",
              "    <tr>\n",
              "      <th>1</th>\n",
              "      <td>G</td>\n",
              "    </tr>\n",
              "    <tr>\n",
              "      <th>2</th>\n",
              "      <td>Q</td>\n",
              "    </tr>\n",
              "    <tr>\n",
              "      <th>...</th>\n",
              "      <td>...</td>\n",
              "    </tr>\n",
              "    <tr>\n",
              "      <th>39999</th>\n",
              "      <td>G</td>\n",
              "    </tr>\n",
              "    <tr>\n",
              "      <th>40000</th>\n",
              "      <td>S</td>\n",
              "    </tr>\n",
              "  </tbody>\n",
              "</table>\n",
              "<p>40000 rows × 1 columns</p>\n",
              "</div>\n",
              "      <button class=\"colab-df-convert\" onclick=\"convertToInteractive('df-9d171fec-2be5-4173-957f-e11028034ece')\"\n",
              "              title=\"Convert this dataframe to an interactive table.\"\n",
              "              style=\"display:none;\">\n",
              "        \n",
              "  <svg xmlns=\"http://www.w3.org/2000/svg\" height=\"24px\"viewBox=\"0 0 24 24\"\n",
              "       width=\"24px\">\n",
              "    <path d=\"M0 0h24v24H0V0z\" fill=\"none\"/>\n",
              "    <path d=\"M18.56 5.44l.94 2.06.94-2.06 2.06-.94-2.06-.94-.94-2.06-.94 2.06-2.06.94zm-11 1L8.5 8.5l.94-2.06 2.06-.94-2.06-.94L8.5 2.5l-.94 2.06-2.06.94zm10 10l.94 2.06.94-2.06 2.06-.94-2.06-.94-.94-2.06-.94 2.06-2.06.94z\"/><path d=\"M17.41 7.96l-1.37-1.37c-.4-.4-.92-.59-1.43-.59-.52 0-1.04.2-1.43.59L10.3 9.45l-7.72 7.72c-.78.78-.78 2.05 0 2.83L4 21.41c.39.39.9.59 1.41.59.51 0 1.02-.2 1.41-.59l7.78-7.78 2.81-2.81c.8-.78.8-2.07 0-2.86zM5.41 20L4 18.59l7.72-7.72 1.47 1.35L5.41 20z\"/>\n",
              "  </svg>\n",
              "      </button>\n",
              "      \n",
              "  <style>\n",
              "    .colab-df-container {\n",
              "      display:flex;\n",
              "      flex-wrap:wrap;\n",
              "      gap: 12px;\n",
              "    }\n",
              "\n",
              "    .colab-df-convert {\n",
              "      background-color: #E8F0FE;\n",
              "      border: none;\n",
              "      border-radius: 50%;\n",
              "      cursor: pointer;\n",
              "      display: none;\n",
              "      fill: #1967D2;\n",
              "      height: 32px;\n",
              "      padding: 0 0 0 0;\n",
              "      width: 32px;\n",
              "    }\n",
              "\n",
              "    .colab-df-convert:hover {\n",
              "      background-color: #E2EBFA;\n",
              "      box-shadow: 0px 1px 2px rgba(60, 64, 67, 0.3), 0px 1px 3px 1px rgba(60, 64, 67, 0.15);\n",
              "      fill: #174EA6;\n",
              "    }\n",
              "\n",
              "    [theme=dark] .colab-df-convert {\n",
              "      background-color: #3B4455;\n",
              "      fill: #D2E3FC;\n",
              "    }\n",
              "\n",
              "    [theme=dark] .colab-df-convert:hover {\n",
              "      background-color: #434B5C;\n",
              "      box-shadow: 0px 1px 3px 1px rgba(0, 0, 0, 0.15);\n",
              "      filter: drop-shadow(0px 1px 2px rgba(0, 0, 0, 0.3));\n",
              "      fill: #FFFFFF;\n",
              "    }\n",
              "  </style>\n",
              "\n",
              "      <script>\n",
              "        const buttonEl =\n",
              "          document.querySelector('#df-9d171fec-2be5-4173-957f-e11028034ece button.colab-df-convert');\n",
              "        buttonEl.style.display =\n",
              "          google.colab.kernel.accessAllowed ? 'block' : 'none';\n",
              "\n",
              "        async function convertToInteractive(key) {\n",
              "          const element = document.querySelector('#df-9d171fec-2be5-4173-957f-e11028034ece');\n",
              "          const dataTable =\n",
              "            await google.colab.kernel.invokeFunction('convertToInteractive',\n",
              "                                                     [key], {});\n",
              "          if (!dataTable) return;\n",
              "\n",
              "          const docLinkHtml = 'Like what you see? Visit the ' +\n",
              "            '<a target=\"_blank\" href=https://colab.research.google.com/notebooks/data_table.ipynb>data table notebook</a>'\n",
              "            + ' to learn more about interactive tables.';\n",
              "          element.innerHTML = '';\n",
              "          dataTable['output_type'] = 'display_data';\n",
              "          await google.colab.output.renderOutput(dataTable, element);\n",
              "          const docLink = document.createElement('div');\n",
              "          docLink.innerHTML = docLinkHtml;\n",
              "          element.appendChild(docLink);\n",
              "        }\n",
              "      </script>\n",
              "    </div>\n",
              "  </div>\n",
              "  "
            ]
          },
          "metadata": {},
          "execution_count": 13
        }
      ]
    },
    {
      "cell_type": "markdown",
      "source": [
        "# **References:**"
      ],
      "metadata": {
        "id": "pzBsjCvS_kEw"
      }
    },
    {
      "cell_type": "markdown",
      "source": [
        "1. Remember to cite your sources here as well! At the least, your textbook should be cited. Google Scholar allows you to effortlessly copy/paste an APA citation format for books and publications. Also cite StackOverflow, package documentation, and other meaningful internet resources to help your peers learn from these (and to avoid plagiarism claims)."
      ],
      "metadata": {
        "id": "2kr8Q-9T_nAb"
      }
    },
    {
      "cell_type": "markdown",
      "source": [
        "<font size=5>⌛</font> <strong><font color=orange size=5>Do not exceed competition's runtime limit!</font></strong>\n",
        "\n",
        "<hr color=red>\n"
      ],
      "metadata": {
        "id": "DoF2GoB_QGw9"
      }
    },
    {
      "cell_type": "code",
      "source": [
        "tmr.ShowTime()    # measure Colab's runtime. Do not remove. Keep as the last cell in your notebook."
      ],
      "metadata": {
        "id": "bD1sdgYbNWQA",
        "colab": {
          "base_uri": "https://localhost:8080/"
        },
        "outputId": "721c337d-03a3-4e28-d4b1-7b337978e943"
      },
      "execution_count": null,
      "outputs": [
        {
          "output_type": "stream",
          "name": "stdout",
          "text": [
            "Runtime is 1 sec\n"
          ]
        }
      ]
    },
    {
      "cell_type": "markdown",
      "metadata": {
        "id": "oUStTaN4uo_Z"
      },
      "source": [
        "## 💡**Starter Ideas**"
      ]
    },
    {
      "cell_type": "markdown",
      "source": [
        "1. Tune model hyperparameters\n",
        "1. Try to linear and non-linear feature normalization: shift/scale, log, divide features by features (investigate scatterplot matrix)\n",
        "1. Try higher order feature interactions and polynomial features on a small subsample. Then identify key features or select key principal components. The final model can be trained on a larger or even full training sample. You can use [PCA](https://scikit-learn.org/stable/modules/generated/sklearn.decomposition.PCA.html) to reduce the feature set\n",
        "1. Do a thorough EDA: look for feature augmentations that result in linear decision boundaries between pairs of classes.\n",
        "1. Evaluate predictions and focus on poorly predicted \"groups\":\n",
        "  1. Strongest missclassifications. E.g. the model is very confident about the wrong label\n",
        "  1. Evaluate predictions near decision boundaries.\n",
        "1. Do scatter plots show piecewise linear shape? Can a separate linear model be used on each support, or can the pattern be linearized via transformations?\n",
        "1. How are date/categorical features treated by the model? Is there a [better way](https://www.google.com/search?q=ways+to+encode+categorical+data) to encode these (perhaps, ordinal) features? \n",
        "  1. E.g. you could replace codes (or groups of codes) with their frequencies, which may capture the implied \"distance\" or rarity between category levels.\n",
        "  1. If encoding ordinal features with integers, should non-equidistant values be considered?\n",
        "1. Learn astronomy domain and features: [🎦](https://www.youtube.com/results?search_query=Quasi-star), [quasi-star](https://en.wikipedia.org/wiki/Quasi-star), [star](https://en.wikipedia.org/wiki/Star), [galaxy](https://en.wikipedia.org/wiki/Galaxy), [📃](https://arxiv.org/abs/2112.02026)\n"
      ],
      "metadata": {
        "id": "q4QO-u3t8xAO"
      }
    }
  ]
}