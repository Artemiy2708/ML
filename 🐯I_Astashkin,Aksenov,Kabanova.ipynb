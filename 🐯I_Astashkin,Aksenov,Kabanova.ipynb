{
  "nbformat": 4,
  "nbformat_minor": 0,
  "metadata": {
    "colab": {
      "provenance": [],
      "collapsed_sections": [],
      "include_colab_link": true
    },
    "kernelspec": {
      "name": "python3",
      "display_name": "Python 3"
    },
    "language_info": {
      "name": "python"
    }
  },
  "cells": [
    {
      "cell_type": "markdown",
      "metadata": {
        "id": "view-in-github",
        "colab_type": "text"
      },
      "source": [
        "<a href=\"https://colab.research.google.com/github/Artemiy2708/ML/blob/main/%F0%9F%90%AFI_Astashkin%2CAksenov%2CKabanova.ipynb\" target=\"_parent\"><img src=\"https://colab.research.google.com/assets/colab-badge.svg\" alt=\"Open In Colab\"/></a>"
      ]
    },
    {
      "cell_type": "markdown",
      "source": [
        "<small><font color=gray>Notebook author: <a href=\"https://www.linkedin.com/in/olegmelnikov/\" target=\"_blank\">Oleg Melnikov</a>, ©<a href=https://www.hse.ru/ target=\"_blank\">HSE</a> 2021 onwards</font></small><hr style=\"margin:0;background-color:silver\">\n",
        "\n",
        "# **[🚗Auto](https://www.kaggle.com/competitions/oct-1622auto/rules)** <small>(See private URL in LMS assignment)</small>\n",
        "\n",
        "See [**instructions**](https://colab.research.google.com/drive/1riOGrE_Fv-yfIbM5V4pgJx4DWcd92cZr#scrollTo=ITaPDPIQEgXV) for running and naming your Colab notebooks.\n",
        "\n"
      ],
      "metadata": {
        "id": "Po1qcjD2lW4A"
      }
    },
    {
      "cell_type": "code",
      "source": [
        "from google.colab import drive; drive.mount('/content/drive')\n",
        "!pip -q install --upgrade --force-reinstall --no-deps kaggle > log  # upgrade kaggle package (to avoid a warning)\n",
        "!mkdir -p ~/.kaggle                                           # .kaggle folder must contain kaggle.json for kaggle executable to properly authenticate you to Kaggle.com\n",
        "!cp /content/drive/MyDrive/kaggle.json ~/.kaggle/kaggle.json >log  # First, download kaggle.json from kaggle.com (in Account page) and place it in the root of mounted Google Drive\n",
        "!cp kaggle.json ~/.kaggle/kaggle.json > log                   # Alternative location of kaggle.json (without a connection to Google Drive)\n",
        "!chmod 600 ~/.kaggle/kaggle.json                              # give only the owner full read/write access to kaggle.json\n",
        "!kaggle config set -n competition -v oct-1622auto           # set the competition context for the next few kaggle API calls. !kaggle config view - shows current settings\n",
        "!kaggle competitions download >> log                          # download competition dataset as a zip file\n",
        "!unzip -o *.zip >> log"
      ],
      "metadata": {
        "id": "muBlEAptY_vG",
        "colab": {
          "base_uri": "https://localhost:8080/"
        },
        "outputId": "d344a2d8-7033-4bbb-cc34-c597a7c485b0"
      },
      "execution_count": null,
      "outputs": [
        {
          "output_type": "stream",
          "name": "stdout",
          "text": [
            "Mounted at /content/drive\n",
            "cp: cannot stat 'kaggle.json': No such file or directory\n",
            "- competition is now set to: oct-1622auto\n",
            "100% 1.14M/1.14M [00:00<00:00, 115MB/s]\n"
          ]
        }
      ]
    },
    {
      "cell_type": "markdown",
      "source": [
        "**(Optioal) CONSENT.** If ok with sharing your Colab for educational purposes, please check the box below with \"X\".\n",
        "\n",
        "<mark>[ . . ]</mark> We consent to sharing our Colab (after the assignment ends) with other students/instructors for educational purpose. We understand that sharing is optional and this decision will not affect our grade in any way. "
      ],
      "metadata": {
        "id": "HB_RPHLJloqz"
      }
    },
    {
      "cell_type": "code",
      "metadata": {
        "colab": {
          "base_uri": "https://localhost:8080/"
        },
        "id": "ToKDfNMabFMF",
        "outputId": "679d842c-73b0-4c3c-90da-8a0e4e1c53d3"
      },
      "source": [
        "%%time\n",
        "%reset -f\n",
        "from IPython.core.interactiveshell import InteractiveShell as IS; IS.ast_node_interactivity = \"all\" \n",
        "import pandas as pd, time, numpy as np\n",
        "from sklearn.model_selection import train_test_split\n",
        "from sklearn.datasets import fetch_openml\n",
        "from sklearn.multioutput import MultiOutputRegressor\n",
        "from sklearn.linear_model import Ridge\n",
        "ToCSV = lambda df, fname: df.round(2).to_csv(f'{fname}.csv', index_label='id') # rounds values to 2 decimals\n",
        "\n",
        "class Timer():\n",
        "  def __init__(self, lim:'RunTimeLimit'=60): self.t0, self.lim, _ = time.time(), lim, print('timer started')\n",
        "  def ShowTime(self):\n",
        "    msg = f'Runtime is {time.time()-self.t0:.0f} sec'\n",
        "    print(f'\\033[91m\\033[1m' + msg + f' > {self.lim} sec limit!!!\\033[0m' if (time.time()-self.t0-1) > self.lim else msg)\n",
        "\n",
        "np.set_printoptions(linewidth=10000, precision=4, edgeitems=20, suppress=True)\n",
        "pd.set_option('max_rows', 100, 'max_columns', 100, 'max_colwidth', 100, 'precision', 2, 'display.max_rows', 4)\n",
        "\n",
        "db = fetch_openml('BNG(auto_price)')   # load databunch (dictionary) \n",
        "tX = pd.DataFrame(db['data'], columns=db['feature_names'])\n",
        "tX['price'] = db['target']\n",
        "YCols = ['city-mpg','highway-mpg','price']  # 3 targets\n",
        "tY = tX[YCols]\n",
        "tX.drop(YCols, axis=1, inplace=True)\n",
        "# tY = pd.Series(db['target'], name='price')\n",
        "tX, vX, tY, DO_NOT_USE = train_test_split(tX, tY, train_size=0.7, random_state=0, shuffle=True)\n",
        "# ToCSV(DO_NOT_USE, 'testY')   # Students cannot use these test values\n",
        "del DO_NOT_USE\n",
        "tX\n",
        "tY\n",
        "tmr = Timer() # runtime limit (in seconds). Add all of your code after the timer"
      ],
      "execution_count": null,
      "outputs": [
        {
          "output_type": "stream",
          "name": "stdout",
          "text": [
            "timer started\n",
            "CPU times: user 22.2 s, sys: 1.21 s, total: 23.4 s\n",
            "Wall time: 47 s\n"
          ]
        }
      ]
    },
    {
      "cell_type": "code",
      "source": [
        "from IPython.core.interactiveshell import InteractiveShell as IS; IS.ast_node_interactivity = \"all\" \n",
        "import pandas as pd, time, numpy as np\n",
        "from sklearn.model_selection import train_test_split\n",
        "from sklearn.datasets import fetch_openml\n",
        "from sklearn.neighbors import KNeighborsRegressor as KNN\n",
        "from sklearn.multioutput import MultiOutputRegressor\n",
        "from sklearn.linear_model import Ridge\n",
        "import matplotlib.pyplot as plt\n",
        "import seaborn as sns \n",
        "db = fetch_openml('BNG(auto_price)')   # load databunch (dictionary)"
      ],
      "metadata": {
        "id": "LN84QkHymKkn"
      },
      "execution_count": null,
      "outputs": []
    },
    {
      "cell_type": "code",
      "source": [
        "tmr = Timer()"
      ],
      "metadata": {
        "colab": {
          "base_uri": "https://localhost:8080/"
        },
        "id": "CxjQQnTAlsog",
        "outputId": "f3d754b1-e62e-4753-b125-a0a1b0c462e6"
      },
      "execution_count": null,
      "outputs": [
        {
          "output_type": "stream",
          "name": "stdout",
          "text": [
            "timer started\n"
          ]
        }
      ]
    },
    {
      "cell_type": "markdown",
      "source": [
        "<hr color=red>\n",
        "\n",
        "<font size=5>⏳</font> <strong><font color=orange size=5>Your Code, Documentation, Ideas and Timer - All Start Here...</font></strong>\n",
        "\n",
        "**Student's Section** (between ⏳ symbols): add your code and documentation here."
      ],
      "metadata": {
        "id": "_MPlcR1YSIY9"
      }
    },
    {
      "cell_type": "markdown",
      "metadata": {
        "id": "OpyLNt3god0c"
      },
      "source": [
        "## **Task 1. Preprocessing Pipeline**\n",
        " \n",
        "Explain elements of your preprocessing pipeline i.e. feature engineering, subsampling, clustering, dimensionality reduction, etc. \n",
        "1. Why did you choose these elements? (Something in EDA, prior experience,...? Btw, EDA is not required)\n",
        "1. How do you evaluate the effectiveness of these elements? \n",
        "1. What else have you tried that worked or didn't? "
      ]
    },
    {
      "cell_type": "markdown",
      "metadata": {
        "id": "30xYIFXAnaPE"
      },
      "source": [
        "**Student's answer:**\n",
        "We noted that some features have strong multicollinearity and they impact on our targest , thus  we used pca. Else we feature engineered these multicollineared features in several -- engine, power. One and only categorial feature we transformed in dummy variable-symboling, as we have seen the tesult that the average price(one target) matters on symboling. Then we poly in degree 2 these features, adding new ones."
      ]
    },
    {
      "cell_type": "markdown",
      "metadata": {
        "id": "KGJRwzqHob4o"
      },
      "source": [
        "## **Task 2. Modeling Approach**\n",
        "Explain your modeling approach, i.e. ideas you tried and why you thought they would be helpful. \n",
        "\n",
        "1. How did these decisions guide you in modeling?\n",
        "1. How do you evaluate the effectiveness of these elements? \n",
        "1. What else have you tried that worked or didn't? "
      ]
    },
    {
      "cell_type": "markdown",
      "metadata": {
        "id": "zi6ZjgtWnb58"
      },
      "source": [
        "**Student's answer:**\n",
        "Here comes the interesing part, We tried LR, Ridge,Lasso, Knn for these model on multioutput regressor but all lr and ridge worked better then Lassoo , while ridge  was giving the same even with hyperparametres tuning, knn did not work for this huge dataset(too much time), even applying pca and using k-d tree as algo instead of brute force. So we chose ridge vanilla.\n",
        "However, we noted, drawing correlation matrig that targets have huge impact on each oher. Thus the was an idea , why we can not separate and apply 3 different regressor models with other targers for 1 targer as a feature also.It was not prohibited on rules, and we have seen a strong correlation. When we applied 3 different regressors on each targer adding other targets as predictors our Lb score boosted significantly.Also we feature engineered for one model(predicting price), feature consisting of 2 other targers(they are multicollinear,but after pca they did not give significant boost)."
      ]
    },
    {
      "cell_type": "markdown",
      "source": [
        "Below is a baseline model that produces the result on Kaggle leaderboard (LB)."
      ],
      "metadata": {
        "id": "c_U8i_Erl0oE"
      }
    },
    {
      "cell_type": "code",
      "source": [
        "ToCSV = lambda df, fname: df.round(2).to_csv(f'{fname}.csv', index_label='id') # rounds values to 2 decimals"
      ],
      "metadata": {
        "id": "cJJxPpVs3dAU"
      },
      "execution_count": null,
      "outputs": []
    },
    {
      "cell_type": "code",
      "source": [
        "from sklearn.decomposition import PCA\n"
      ],
      "metadata": {
        "id": "-vWo-1QzG4Si"
      },
      "execution_count": null,
      "outputs": []
    },
    {
      "cell_type": "code",
      "source": [
        "\n",
        "tX = pd.DataFrame(db['data'], columns=db['feature_names'])\n",
        "tX['price'] = db['target']\n",
        "YCols = ['price']\n",
        "tY = tX[YCols]\n",
        "tX.drop(YCols, axis=1, inplace=True)\n",
        "tX['power']=tX.length*tX.width*tX['wheel-base']\n",
        "tX['engine']=tX.bore*tX['engine-size']*tX['curb-weight']\n",
        "tX['pow']=tX.engine*tX.power\n",
        "#tX['fuel']=tX['highway-mpg']*0.5+tX['city-mpg']*0.5\n",
        "df_dummy=pd.get_dummies(tX[['symboling']])\n",
        "#tX.drop(['symboling','engine-size','curb-weight','engine-size','width','length','wheel-base','horsepower','bore','power','engine'],inplace=True,axis=1)\n",
        "tX.drop(['symboling','engine'],axis=1,inplace=True)\n",
        "tX=tX.apply(lambda x: (x - np.mean(x)) /  np.std(x))\n",
        "reduction = PCA()\n",
        "reduction.fit(tX)\n",
        "variance = reduction.explained_variance_ratio_\n",
        "variance_bound = 0\n",
        "counter = 0\n",
        "for i in variance:\n",
        "    variance_bound += i\n",
        "    counter += 1\n",
        "    if (variance_bound > 0.999):\n",
        "        break\n",
        "features = counter\n",
        "tX = pd.DataFrame(reduction.transform(tX)).loc[:, :features]\n",
        "tX=pd.concat([tX,df_dummy],axis=1)\n",
        "tX.drop(['symboling_0'],inplace=True,axis=1)"
      ],
      "metadata": {
        "id": "xW8jJJy9ZlLK",
        "colab": {
          "base_uri": "https://localhost:8080/"
        },
        "outputId": "f865cd76-48ed-4be6-9404-4f06a932ea93"
      },
      "execution_count": null,
      "outputs": [
        {
          "output_type": "execute_result",
          "data": {
            "text/plain": [
              "PCA()"
            ]
          },
          "metadata": {},
          "execution_count": 97
        }
      ]
    },
    {
      "cell_type": "code",
      "source": [
        "import numpy as np\n",
        "from sklearn.linear_model import RidgeCV\n",
        "from sklearn.linear_model import Lasso\n",
        "from sklearn.linear_model import Ridge\n",
        "from sklearn.linear_model import LinearRegression as LR\n",
        "from sklearn.linear_model import SGDRegressor as SGD\n",
        "from sklearn.neighbors import KNeighborsRegressor as KNN\n",
        "from sklearn.neighbors import NearestNeighbors as NN\n",
        "from sklearn.preprocessing import PolynomialFeatures\n",
        "from sklearn.model_selection import cross_validate\n",
        "from sklearn.model_selection import GridSearchCV\n",
        "from sklearn.neighbors import KDTree\n",
        "from sklearn.model_selection import KFold\n",
        "from sklearn.metrics import r2_score\n",
        "from sklearn.model_selection import cross_val_score\n",
        "import statsmodels.api as sm \n",
        "from sklearn.feature_selection import RFE\n",
        "poly = PolynomialFeatures(degree=2) # adding polynomial features\n"
      ],
      "metadata": {
        "id": "cLqTW2uiLRuY"
      },
      "execution_count": null,
      "outputs": []
    },
    {
      "cell_type": "code",
      "source": [
        "tX, vX, tY, DO_NOT_USE = train_test_split(tX, tY, train_size=0.7, random_state=0, shuffle=True)\n",
        "index1 = vX.index\n",
        "tX = poly.fit_transform(tX)\n",
        "vX = poly.transform(vX)\n",
        "lm = Ridge().fit(tX,tY)\n",
        "#tX = poly.fit_transform(tX)\n",
        "#vX = poly.transform(vX)\n",
        "#m = LR().fit(tX, tY.price)  \n",
        "#parameters = {'alpha':[1,2б 10]}\n",
        "#loss = ['hinge', 'log', 'modified_huber', 'squared_hinge',  \n",
        "#'perceptron'] \n",
        "#penalty = ['l1', 'l2', 'elasticnet'] \n",
        "#alpha = [0.0001, 0.001, 0.01, 0.1, 1, 10, 100, 1000] \n",
        "#learning_rate = ['constant', 'optimal', 'invscaling', 'adaptive'] \n",
        "\n",
        "#Ridge_reg= GridSearchCV(SGD(), param_distribution, scoring='r2',cv=5)\n",
        "\n",
        "#Ridge_reg.fit(tX,tY)\n",
        "\n",
        "# best estimator\n",
        "#print(Ridge_reg.best_estimator_)\n",
        "\n",
        "# best model\n",
        "#best_model = Ridge_reg.best_estimator_\n",
        "#best_model.fit(tX,tY)\n",
        "#m1=KNN(n_neighbors=5,n_jobs=-1).fit(tX,tY)\n",
        "print(f'In-sample R^2 = {lm.score(tX,tY)}')\n",
        "#print(f'In-sample R^2 = {m1.score(tX,tY):.4f}')\n",
        "\n",
        "\n",
        "#cv_r2_scores_rf = cross_val_score(m, tX,tY, cv=5,scoring='r2')\n",
        "#print(cv_r2_scores_rf)\n",
        "#print(\"Mean 5-Fold R Squared: {}\".format(np.mean(cv_r2_scores_rf)))\n",
        "\n",
        "pY = pd.DataFrame(lm.predict(vX), index=index1, columns=YCols)\n",
        "#pY1 = pd.DataFrame(m1.predict(vX), index=vX.index, columns=YCols)\n",
        "#ToCSV(pY, 'Auto_baseline')"
      ],
      "metadata": {
        "colab": {
          "base_uri": "https://localhost:8080/"
        },
        "id": "RTCUokt6aTdx",
        "outputId": "25322b1e-7eaa-4d88-841c-78babeb83461"
      },
      "execution_count": null,
      "outputs": [
        {
          "output_type": "stream",
          "name": "stderr",
          "text": [
            "/usr/local/lib/python3.7/dist-packages/sklearn/utils/validation.py:1692: FutureWarning: Feature names only support names that are all strings. Got feature names with dtypes: ['int', 'str']. An error will be raised in 1.2.\n",
            "  FutureWarning,\n",
            "/usr/local/lib/python3.7/dist-packages/sklearn/utils/validation.py:1692: FutureWarning: Feature names only support names that are all strings. Got feature names with dtypes: ['int', 'str']. An error will be raised in 1.2.\n",
            "  FutureWarning,\n",
            "/usr/local/lib/python3.7/dist-packages/sklearn/utils/validation.py:1692: FutureWarning: Feature names only support names that are all strings. Got feature names with dtypes: ['int', 'str']. An error will be raised in 1.2.\n",
            "  FutureWarning,\n"
          ]
        },
        {
          "output_type": "stream",
          "name": "stdout",
          "text": [
            "In-sample R^2 = 0.5621711476335132\n"
          ]
        }
      ]
    },
    {
      "cell_type": "code",
      "source": [
        "tX = pd.DataFrame(db['data'], columns=db['feature_names'])\n",
        "tX['price'] = db['target']\n",
        "YCols = ['city-mpg']\n",
        "tY = tX[YCols]\n",
        "tX.drop(YCols, axis=1, inplace=True)\n",
        "tX['power']=tX.length*tX.width*tX['wheel-base']\n",
        "tX['engine']=tX.bore*tX['engine-size']*tX['curb-weight']\n",
        "tX['pow']=tX.engine*tX.power\n",
        "df_dummy=pd.get_dummies(tX[['symboling']])\n",
        "#tX.drop(['symboling','engine-size','curb-weight','engine-size','width','length','wheel-base','horsepower','bore','power','engine'],inplace=True,axis=1)\n",
        "tX.drop(['symboling','engine'],axis=1,inplace=True)\n",
        "tX=tX.apply(lambda x: (x - np.mean(x)) /  np.std(x))\n",
        "reduction = PCA()\n",
        "reduction.fit(tX)\n",
        "variance = reduction.explained_variance_ratio_\n",
        "variance_bound = 0\n",
        "counter = 0\n",
        "for i in variance:\n",
        "    variance_bound += i\n",
        "    counter += 1\n",
        "    if (variance_bound > 0.999):\n",
        "        break\n",
        "features = counter\n",
        "tX = pd.DataFrame(reduction.transform(tX)).loc[:, :features]\n",
        "tX=pd.concat([tX,df_dummy],axis=1)\n",
        "tX.drop(['symboling_0'],inplace=True,axis=1)"
      ],
      "metadata": {
        "colab": {
          "base_uri": "https://localhost:8080/"
        },
        "id": "yFD_MIlrPB67",
        "outputId": "a2bb073d-b237-44fa-c162-6059448d26f8"
      },
      "execution_count": null,
      "outputs": [
        {
          "output_type": "execute_result",
          "data": {
            "text/plain": [
              "PCA()"
            ]
          },
          "metadata": {},
          "execution_count": 111
        }
      ]
    },
    {
      "cell_type": "code",
      "source": [
        "poly = PolynomialFeatures(degree=2) # adding polynomial features"
      ],
      "metadata": {
        "id": "8FPfbHLTPByI"
      },
      "execution_count": null,
      "outputs": []
    },
    {
      "cell_type": "code",
      "source": [
        "tX, vX, tY, DO_NOT_USE = train_test_split(tX, tY, train_size=0.7, random_state=0, shuffle=True)\n",
        "index1 = vX.index\n",
        "tX = poly.fit_transform(tX)\n",
        "vX = poly.transform(vX)\n",
        "lm = Ridge().fit(tX,tY)\n",
        "#tX = poly.fit_transform(tX)\n",
        "#vX = poly.transform(vX)\n",
        "#m = LR().fit(tX, tY.price)  \n",
        "#parameters = {'alpha':[1,2б 10]}\n",
        "#loss = ['hinge', 'log', 'modified_huber', 'squared_hinge',  \n",
        "#'perceptron'] \n",
        "#penalty = ['l1', 'l2', 'elasticnet'] \n",
        "#alpha = [0.0001, 0.001, 0.01, 0.1, 1, 10, 100, 1000] \n",
        "#learning_rate = ['constant', 'optimal', 'invscaling', 'adaptive'] \n",
        "\n",
        "#Ridge_reg= GridSearchCV(SGD(), param_distribution, scoring='r2',cv=5)\n",
        "\n",
        "#Ridge_reg.fit(tX,tY)\n",
        "\n",
        "# best estimator\n",
        "#print(Ridge_reg.best_estimator_)\n",
        "\n",
        "# best model\n",
        "#best_model = Ridge_reg.best_estimator_\n",
        "#best_model.fit(tX,tY)\n",
        "#m1=KNN(n_neighbors=5,n_jobs=-1).fit(tX,tY)\n",
        "print(f'In-sample R^2 = {lm.score(tX,tY)}')\n",
        "#print(f'In-sample R^2 = {m1.score(tX,tY):.4f}')\n",
        "\n",
        "\n",
        "#cv_r2_scores_rf = cross_val_score(m, tX,tY, cv=5,scoring='r2')\n",
        "#print(cv_r2_scores_rf)\n",
        "#print(\"Mean 5-Fold R Squared: {}\".format(np.mean(cv_r2_scores_rf)))\n",
        "\n",
        "pY1 = pd.DataFrame(lm.predict(vX), index=index1, columns=YCols)\n",
        "#pY1 = pd.DataFrame(m1.predict(vX), index=vX.index, columns=YCols)\n",
        "#ToCSV(pY, 'Auto_baseline')"
      ],
      "metadata": {
        "colab": {
          "base_uri": "https://localhost:8080/"
        },
        "id": "SzeyxXS-QGO7",
        "outputId": "9094a00a-a204-408d-ad93-9ff1eb986167"
      },
      "execution_count": null,
      "outputs": [
        {
          "output_type": "stream",
          "name": "stderr",
          "text": [
            "/usr/local/lib/python3.7/dist-packages/sklearn/utils/validation.py:1692: FutureWarning: Feature names only support names that are all strings. Got feature names with dtypes: ['int', 'str']. An error will be raised in 1.2.\n",
            "  FutureWarning,\n",
            "/usr/local/lib/python3.7/dist-packages/sklearn/utils/validation.py:1692: FutureWarning: Feature names only support names that are all strings. Got feature names with dtypes: ['int', 'str']. An error will be raised in 1.2.\n",
            "  FutureWarning,\n",
            "/usr/local/lib/python3.7/dist-packages/sklearn/utils/validation.py:1692: FutureWarning: Feature names only support names that are all strings. Got feature names with dtypes: ['int', 'str']. An error will be raised in 1.2.\n",
            "  FutureWarning,\n"
          ]
        },
        {
          "output_type": "stream",
          "name": "stdout",
          "text": [
            "In-sample R^2 = 0.46845316883468135\n"
          ]
        }
      ]
    },
    {
      "cell_type": "code",
      "source": [
        "pY1"
      ],
      "metadata": {
        "colab": {
          "base_uri": "https://localhost:8080/",
          "height": 424
        },
        "id": "wOTw4SzvQGB-",
        "outputId": "462618d7-dc65-4f47-9eb0-9f215972c45e"
      },
      "execution_count": null,
      "outputs": [
        {
          "output_type": "execute_result",
          "data": {
            "text/plain": [
              "         city-mpg\n",
              "157105  27.923552\n",
              "374554  23.938454\n",
              "688694  25.782297\n",
              "265381  25.500725\n",
              "955415  26.614149\n",
              "...           ...\n",
              "676100  19.121615\n",
              "732857  28.497784\n",
              "30508   26.978655\n",
              "952836  26.164363\n",
              "374097  30.811208\n",
              "\n",
              "[300000 rows x 1 columns]"
            ],
            "text/html": [
              "\n",
              "  <div id=\"df-7bcab5dd-17b6-43ff-b77b-148e2e843f09\">\n",
              "    <div class=\"colab-df-container\">\n",
              "      <div>\n",
              "<style scoped>\n",
              "    .dataframe tbody tr th:only-of-type {\n",
              "        vertical-align: middle;\n",
              "    }\n",
              "\n",
              "    .dataframe tbody tr th {\n",
              "        vertical-align: top;\n",
              "    }\n",
              "\n",
              "    .dataframe thead th {\n",
              "        text-align: right;\n",
              "    }\n",
              "</style>\n",
              "<table border=\"1\" class=\"dataframe\">\n",
              "  <thead>\n",
              "    <tr style=\"text-align: right;\">\n",
              "      <th></th>\n",
              "      <th>city-mpg</th>\n",
              "    </tr>\n",
              "  </thead>\n",
              "  <tbody>\n",
              "    <tr>\n",
              "      <th>157105</th>\n",
              "      <td>27.923552</td>\n",
              "    </tr>\n",
              "    <tr>\n",
              "      <th>374554</th>\n",
              "      <td>23.938454</td>\n",
              "    </tr>\n",
              "    <tr>\n",
              "      <th>688694</th>\n",
              "      <td>25.782297</td>\n",
              "    </tr>\n",
              "    <tr>\n",
              "      <th>265381</th>\n",
              "      <td>25.500725</td>\n",
              "    </tr>\n",
              "    <tr>\n",
              "      <th>955415</th>\n",
              "      <td>26.614149</td>\n",
              "    </tr>\n",
              "    <tr>\n",
              "      <th>...</th>\n",
              "      <td>...</td>\n",
              "    </tr>\n",
              "    <tr>\n",
              "      <th>676100</th>\n",
              "      <td>19.121615</td>\n",
              "    </tr>\n",
              "    <tr>\n",
              "      <th>732857</th>\n",
              "      <td>28.497784</td>\n",
              "    </tr>\n",
              "    <tr>\n",
              "      <th>30508</th>\n",
              "      <td>26.978655</td>\n",
              "    </tr>\n",
              "    <tr>\n",
              "      <th>952836</th>\n",
              "      <td>26.164363</td>\n",
              "    </tr>\n",
              "    <tr>\n",
              "      <th>374097</th>\n",
              "      <td>30.811208</td>\n",
              "    </tr>\n",
              "  </tbody>\n",
              "</table>\n",
              "<p>300000 rows × 1 columns</p>\n",
              "</div>\n",
              "      <button class=\"colab-df-convert\" onclick=\"convertToInteractive('df-7bcab5dd-17b6-43ff-b77b-148e2e843f09')\"\n",
              "              title=\"Convert this dataframe to an interactive table.\"\n",
              "              style=\"display:none;\">\n",
              "        \n",
              "  <svg xmlns=\"http://www.w3.org/2000/svg\" height=\"24px\"viewBox=\"0 0 24 24\"\n",
              "       width=\"24px\">\n",
              "    <path d=\"M0 0h24v24H0V0z\" fill=\"none\"/>\n",
              "    <path d=\"M18.56 5.44l.94 2.06.94-2.06 2.06-.94-2.06-.94-.94-2.06-.94 2.06-2.06.94zm-11 1L8.5 8.5l.94-2.06 2.06-.94-2.06-.94L8.5 2.5l-.94 2.06-2.06.94zm10 10l.94 2.06.94-2.06 2.06-.94-2.06-.94-.94-2.06-.94 2.06-2.06.94z\"/><path d=\"M17.41 7.96l-1.37-1.37c-.4-.4-.92-.59-1.43-.59-.52 0-1.04.2-1.43.59L10.3 9.45l-7.72 7.72c-.78.78-.78 2.05 0 2.83L4 21.41c.39.39.9.59 1.41.59.51 0 1.02-.2 1.41-.59l7.78-7.78 2.81-2.81c.8-.78.8-2.07 0-2.86zM5.41 20L4 18.59l7.72-7.72 1.47 1.35L5.41 20z\"/>\n",
              "  </svg>\n",
              "      </button>\n",
              "      \n",
              "  <style>\n",
              "    .colab-df-container {\n",
              "      display:flex;\n",
              "      flex-wrap:wrap;\n",
              "      gap: 12px;\n",
              "    }\n",
              "\n",
              "    .colab-df-convert {\n",
              "      background-color: #E8F0FE;\n",
              "      border: none;\n",
              "      border-radius: 50%;\n",
              "      cursor: pointer;\n",
              "      display: none;\n",
              "      fill: #1967D2;\n",
              "      height: 32px;\n",
              "      padding: 0 0 0 0;\n",
              "      width: 32px;\n",
              "    }\n",
              "\n",
              "    .colab-df-convert:hover {\n",
              "      background-color: #E2EBFA;\n",
              "      box-shadow: 0px 1px 2px rgba(60, 64, 67, 0.3), 0px 1px 3px 1px rgba(60, 64, 67, 0.15);\n",
              "      fill: #174EA6;\n",
              "    }\n",
              "\n",
              "    [theme=dark] .colab-df-convert {\n",
              "      background-color: #3B4455;\n",
              "      fill: #D2E3FC;\n",
              "    }\n",
              "\n",
              "    [theme=dark] .colab-df-convert:hover {\n",
              "      background-color: #434B5C;\n",
              "      box-shadow: 0px 1px 3px 1px rgba(0, 0, 0, 0.15);\n",
              "      filter: drop-shadow(0px 1px 2px rgba(0, 0, 0, 0.3));\n",
              "      fill: #FFFFFF;\n",
              "    }\n",
              "  </style>\n",
              "\n",
              "      <script>\n",
              "        const buttonEl =\n",
              "          document.querySelector('#df-7bcab5dd-17b6-43ff-b77b-148e2e843f09 button.colab-df-convert');\n",
              "        buttonEl.style.display =\n",
              "          google.colab.kernel.accessAllowed ? 'block' : 'none';\n",
              "\n",
              "        async function convertToInteractive(key) {\n",
              "          const element = document.querySelector('#df-7bcab5dd-17b6-43ff-b77b-148e2e843f09');\n",
              "          const dataTable =\n",
              "            await google.colab.kernel.invokeFunction('convertToInteractive',\n",
              "                                                     [key], {});\n",
              "          if (!dataTable) return;\n",
              "\n",
              "          const docLinkHtml = 'Like what you see? Visit the ' +\n",
              "            '<a target=\"_blank\" href=https://colab.research.google.com/notebooks/data_table.ipynb>data table notebook</a>'\n",
              "            + ' to learn more about interactive tables.';\n",
              "          element.innerHTML = '';\n",
              "          dataTable['output_type'] = 'display_data';\n",
              "          await google.colab.output.renderOutput(dataTable, element);\n",
              "          const docLink = document.createElement('div');\n",
              "          docLink.innerHTML = docLinkHtml;\n",
              "          element.appendChild(docLink);\n",
              "        }\n",
              "      </script>\n",
              "    </div>\n",
              "  </div>\n",
              "  "
            ]
          },
          "metadata": {},
          "execution_count": 69
        }
      ]
    },
    {
      "cell_type": "code",
      "source": [
        "tX = pd.DataFrame(db['data'], columns=db['feature_names'])\n",
        "tX['price'] = db['target']\n",
        "YCols = ['highway-mpg']\n",
        "tY = tX[YCols]\n",
        "tX.drop(YCols, axis=1, inplace=True)\n",
        "tX['power']=tX.length*tX.width*tX['wheel-base']\n",
        "tX['engine']=tX.bore*tX['engine-size']*tX['curb-weight']\n",
        "tX['pow']=tX.engine*tX.power\n",
        "df_dummy=pd.get_dummies(tX[['symboling']])\n",
        "#tX.drop(['symboling','engine-size','curb-weight','engine-size','width','length','wheel-base','horsepower','bore','power','engine'],inplace=True,axis=1)\n",
        "tX.drop(['symboling','engine'],axis=1,inplace=True)\n",
        "tX=tX.apply(lambda x: (x - np.mean(x)) /  np.std(x))\n",
        "reduction = PCA()\n",
        "reduction.fit(tX)\n",
        "variance = reduction.explained_variance_ratio_\n",
        "variance_bound = 0\n",
        "counter = 0\n",
        "for i in variance:\n",
        "    variance_bound += i\n",
        "    counter += 1\n",
        "    if (variance_bound > 0.999):\n",
        "        break\n",
        "features = counter\n",
        "tX = pd.DataFrame(reduction.transform(tX)).loc[:, :features]\n",
        "tX=pd.concat([tX,df_dummy],axis=1)\n",
        "tX.drop(['symboling_0'],inplace=True,axis=1)"
      ],
      "metadata": {
        "colab": {
          "base_uri": "https://localhost:8080/"
        },
        "id": "P5GtX42ZQkGk",
        "outputId": "913724f4-a655-4e4f-dccd-8dc261f5a366"
      },
      "execution_count": null,
      "outputs": [
        {
          "output_type": "execute_result",
          "data": {
            "text/plain": [
              "PCA()"
            ]
          },
          "metadata": {},
          "execution_count": 117
        }
      ]
    },
    {
      "cell_type": "code",
      "source": [
        "poly = PolynomialFeatures(degree=2) # adding polynomial features"
      ],
      "metadata": {
        "id": "PVdLKY9IQlUC"
      },
      "execution_count": null,
      "outputs": []
    },
    {
      "cell_type": "code",
      "source": [
        "tX, vX, tY, DO_NOT_USE = train_test_split(tX, tY, train_size=0.7, random_state=0, shuffle=True)\n",
        "index1 = vX.index\n",
        "tX = poly.fit_transform(tX)\n",
        "vX = poly.transform(vX)\n",
        "lm = Ridge().fit(tX,tY)\n",
        "#tX = poly.fit_transform(tX)\n",
        "#vX = poly.transform(vX)\n",
        "#m = LR().fit(tX, tY.price)  \n",
        "#parameters = {'alpha':[1,2б 10]}\n",
        "#loss = ['hinge', 'log', 'modified_huber', 'squared_hinge',  \n",
        "#'perceptron'] \n",
        "#penalty = ['l1', 'l2', 'elasticnet'] \n",
        "#alpha = [0.0001, 0.001, 0.01, 0.1, 1, 10, 100, 1000] \n",
        "#learning_rate = ['constant', 'optimal', 'invscaling', 'adaptive'] \n",
        "\n",
        "#Ridge_reg= GridSearchCV(SGD(), param_distribution, scoring='r2',cv=5)\n",
        "\n",
        "#Ridge_reg.fit(tX,tY)\n",
        "\n",
        "# best estimator\n",
        "#print(Ridge_reg.best_estimator_)\n",
        "\n",
        "# best model\n",
        "#best_model = Ridge_reg.best_estimator_\n",
        "#best_model.fit(tX,tY)\n",
        "#m1=KNN(n_neighbors=5,n_jobs=-1).fit(tX,tY)\n",
        "print(f'In-sample R^2 = {lm.score(tX,tY)}')\n",
        "#print(f'In-sample R^2 = {m1.score(tX,tY):.4f}')\n",
        "\n",
        "\n",
        "#cv_r2_scores_rf = cross_val_score(m, tX,tY, cv=5,scoring='r2')\n",
        "#print(cv_r2_scores_rf)\n",
        "#print(\"Mean 5-Fold R Squared: {}\".format(np.mean(cv_r2_scores_rf)))\n",
        "\n",
        "pY2 = pd.DataFrame(lm.predict(vX), index=index1, columns=YCols)\n",
        "#pY1 = pd.DataFrame(m1.predict(vX), index=vX.index, columns=YCols)\n",
        "#ToCSV(pY, 'Auto_baseline')"
      ],
      "metadata": {
        "colab": {
          "base_uri": "https://localhost:8080/"
        },
        "id": "quBsF7gfQlKG",
        "outputId": "053c56ab-bb13-472e-b936-0e48e88d2bae"
      },
      "execution_count": null,
      "outputs": [
        {
          "output_type": "stream",
          "name": "stderr",
          "text": [
            "/usr/local/lib/python3.7/dist-packages/sklearn/utils/validation.py:1692: FutureWarning: Feature names only support names that are all strings. Got feature names with dtypes: ['int', 'str']. An error will be raised in 1.2.\n",
            "  FutureWarning,\n",
            "/usr/local/lib/python3.7/dist-packages/sklearn/utils/validation.py:1692: FutureWarning: Feature names only support names that are all strings. Got feature names with dtypes: ['int', 'str']. An error will be raised in 1.2.\n",
            "  FutureWarning,\n",
            "/usr/local/lib/python3.7/dist-packages/sklearn/utils/validation.py:1692: FutureWarning: Feature names only support names that are all strings. Got feature names with dtypes: ['int', 'str']. An error will be raised in 1.2.\n",
            "  FutureWarning,\n"
          ]
        },
        {
          "output_type": "stream",
          "name": "stdout",
          "text": [
            "In-sample R^2 = 0.3737156095402674\n"
          ]
        }
      ]
    },
    {
      "cell_type": "code",
      "source": [
        "ToCSV(pY, 'Auto_baseline')"
      ],
      "metadata": {
        "id": "mgHg9nOlOqVa"
      },
      "execution_count": null,
      "outputs": []
    },
    {
      "cell_type": "code",
      "source": [
        "P=pd.concat([pY1,pY2,pY],axis=1)\n"
      ],
      "metadata": {
        "id": "0MBvBXzWRccG"
      },
      "execution_count": null,
      "outputs": []
    },
    {
      "cell_type": "code",
      "source": [
        "#P"
      ],
      "metadata": {
        "colab": {
          "base_uri": "https://localhost:8080/",
          "height": 424
        },
        "id": "2J_vOd9_RlLu",
        "outputId": "c329acb8-31b8-4f04-8b75-f121db548bf9"
      },
      "execution_count": null,
      "outputs": [
        {
          "output_type": "execute_result",
          "data": {
            "text/plain": [
              "         city-mpg  highway-mpg         price\n",
              "157105  27.923552    30.350911   8238.559132\n",
              "374554  23.938454    30.067163  11957.075737\n",
              "688694  25.782297    32.808735   8994.149072\n",
              "265381  25.500725    29.457832  11896.076539\n",
              "955415  26.614149    32.569384   8426.420509\n",
              "...           ...          ...           ...\n",
              "676100  19.121615    25.638343  17415.580951\n",
              "732857  28.497784    35.127407   6624.485552\n",
              "30508   26.978655    31.113272  10294.797654\n",
              "952836  26.164363    31.505317  13080.690976\n",
              "374097  30.811208    35.117524   6321.171976\n",
              "\n",
              "[300000 rows x 3 columns]"
            ],
            "text/html": [
              "\n",
              "  <div id=\"df-98ad8fa2-329b-4a2b-89d1-1753bce9a5a7\">\n",
              "    <div class=\"colab-df-container\">\n",
              "      <div>\n",
              "<style scoped>\n",
              "    .dataframe tbody tr th:only-of-type {\n",
              "        vertical-align: middle;\n",
              "    }\n",
              "\n",
              "    .dataframe tbody tr th {\n",
              "        vertical-align: top;\n",
              "    }\n",
              "\n",
              "    .dataframe thead th {\n",
              "        text-align: right;\n",
              "    }\n",
              "</style>\n",
              "<table border=\"1\" class=\"dataframe\">\n",
              "  <thead>\n",
              "    <tr style=\"text-align: right;\">\n",
              "      <th></th>\n",
              "      <th>city-mpg</th>\n",
              "      <th>highway-mpg</th>\n",
              "      <th>price</th>\n",
              "    </tr>\n",
              "  </thead>\n",
              "  <tbody>\n",
              "    <tr>\n",
              "      <th>157105</th>\n",
              "      <td>27.923552</td>\n",
              "      <td>30.350911</td>\n",
              "      <td>8238.559132</td>\n",
              "    </tr>\n",
              "    <tr>\n",
              "      <th>374554</th>\n",
              "      <td>23.938454</td>\n",
              "      <td>30.067163</td>\n",
              "      <td>11957.075737</td>\n",
              "    </tr>\n",
              "    <tr>\n",
              "      <th>688694</th>\n",
              "      <td>25.782297</td>\n",
              "      <td>32.808735</td>\n",
              "      <td>8994.149072</td>\n",
              "    </tr>\n",
              "    <tr>\n",
              "      <th>265381</th>\n",
              "      <td>25.500725</td>\n",
              "      <td>29.457832</td>\n",
              "      <td>11896.076539</td>\n",
              "    </tr>\n",
              "    <tr>\n",
              "      <th>955415</th>\n",
              "      <td>26.614149</td>\n",
              "      <td>32.569384</td>\n",
              "      <td>8426.420509</td>\n",
              "    </tr>\n",
              "    <tr>\n",
              "      <th>...</th>\n",
              "      <td>...</td>\n",
              "      <td>...</td>\n",
              "      <td>...</td>\n",
              "    </tr>\n",
              "    <tr>\n",
              "      <th>676100</th>\n",
              "      <td>19.121615</td>\n",
              "      <td>25.638343</td>\n",
              "      <td>17415.580951</td>\n",
              "    </tr>\n",
              "    <tr>\n",
              "      <th>732857</th>\n",
              "      <td>28.497784</td>\n",
              "      <td>35.127407</td>\n",
              "      <td>6624.485552</td>\n",
              "    </tr>\n",
              "    <tr>\n",
              "      <th>30508</th>\n",
              "      <td>26.978655</td>\n",
              "      <td>31.113272</td>\n",
              "      <td>10294.797654</td>\n",
              "    </tr>\n",
              "    <tr>\n",
              "      <th>952836</th>\n",
              "      <td>26.164363</td>\n",
              "      <td>31.505317</td>\n",
              "      <td>13080.690976</td>\n",
              "    </tr>\n",
              "    <tr>\n",
              "      <th>374097</th>\n",
              "      <td>30.811208</td>\n",
              "      <td>35.117524</td>\n",
              "      <td>6321.171976</td>\n",
              "    </tr>\n",
              "  </tbody>\n",
              "</table>\n",
              "<p>300000 rows × 3 columns</p>\n",
              "</div>\n",
              "      <button class=\"colab-df-convert\" onclick=\"convertToInteractive('df-98ad8fa2-329b-4a2b-89d1-1753bce9a5a7')\"\n",
              "              title=\"Convert this dataframe to an interactive table.\"\n",
              "              style=\"display:none;\">\n",
              "        \n",
              "  <svg xmlns=\"http://www.w3.org/2000/svg\" height=\"24px\"viewBox=\"0 0 24 24\"\n",
              "       width=\"24px\">\n",
              "    <path d=\"M0 0h24v24H0V0z\" fill=\"none\"/>\n",
              "    <path d=\"M18.56 5.44l.94 2.06.94-2.06 2.06-.94-2.06-.94-.94-2.06-.94 2.06-2.06.94zm-11 1L8.5 8.5l.94-2.06 2.06-.94-2.06-.94L8.5 2.5l-.94 2.06-2.06.94zm10 10l.94 2.06.94-2.06 2.06-.94-2.06-.94-.94-2.06-.94 2.06-2.06.94z\"/><path d=\"M17.41 7.96l-1.37-1.37c-.4-.4-.92-.59-1.43-.59-.52 0-1.04.2-1.43.59L10.3 9.45l-7.72 7.72c-.78.78-.78 2.05 0 2.83L4 21.41c.39.39.9.59 1.41.59.51 0 1.02-.2 1.41-.59l7.78-7.78 2.81-2.81c.8-.78.8-2.07 0-2.86zM5.41 20L4 18.59l7.72-7.72 1.47 1.35L5.41 20z\"/>\n",
              "  </svg>\n",
              "      </button>\n",
              "      \n",
              "  <style>\n",
              "    .colab-df-container {\n",
              "      display:flex;\n",
              "      flex-wrap:wrap;\n",
              "      gap: 12px;\n",
              "    }\n",
              "\n",
              "    .colab-df-convert {\n",
              "      background-color: #E8F0FE;\n",
              "      border: none;\n",
              "      border-radius: 50%;\n",
              "      cursor: pointer;\n",
              "      display: none;\n",
              "      fill: #1967D2;\n",
              "      height: 32px;\n",
              "      padding: 0 0 0 0;\n",
              "      width: 32px;\n",
              "    }\n",
              "\n",
              "    .colab-df-convert:hover {\n",
              "      background-color: #E2EBFA;\n",
              "      box-shadow: 0px 1px 2px rgba(60, 64, 67, 0.3), 0px 1px 3px 1px rgba(60, 64, 67, 0.15);\n",
              "      fill: #174EA6;\n",
              "    }\n",
              "\n",
              "    [theme=dark] .colab-df-convert {\n",
              "      background-color: #3B4455;\n",
              "      fill: #D2E3FC;\n",
              "    }\n",
              "\n",
              "    [theme=dark] .colab-df-convert:hover {\n",
              "      background-color: #434B5C;\n",
              "      box-shadow: 0px 1px 3px 1px rgba(0, 0, 0, 0.15);\n",
              "      filter: drop-shadow(0px 1px 2px rgba(0, 0, 0, 0.3));\n",
              "      fill: #FFFFFF;\n",
              "    }\n",
              "  </style>\n",
              "\n",
              "      <script>\n",
              "        const buttonEl =\n",
              "          document.querySelector('#df-98ad8fa2-329b-4a2b-89d1-1753bce9a5a7 button.colab-df-convert');\n",
              "        buttonEl.style.display =\n",
              "          google.colab.kernel.accessAllowed ? 'block' : 'none';\n",
              "\n",
              "        async function convertToInteractive(key) {\n",
              "          const element = document.querySelector('#df-98ad8fa2-329b-4a2b-89d1-1753bce9a5a7');\n",
              "          const dataTable =\n",
              "            await google.colab.kernel.invokeFunction('convertToInteractive',\n",
              "                                                     [key], {});\n",
              "          if (!dataTable) return;\n",
              "\n",
              "          const docLinkHtml = 'Like what you see? Visit the ' +\n",
              "            '<a target=\"_blank\" href=https://colab.research.google.com/notebooks/data_table.ipynb>data table notebook</a>'\n",
              "            + ' to learn more about interactive tables.';\n",
              "          element.innerHTML = '';\n",
              "          dataTable['output_type'] = 'display_data';\n",
              "          await google.colab.output.renderOutput(dataTable, element);\n",
              "          const docLink = document.createElement('div');\n",
              "          docLink.innerHTML = docLinkHtml;\n",
              "          element.appendChild(docLink);\n",
              "        }\n",
              "      </script>\n",
              "    </div>\n",
              "  </div>\n",
              "  "
            ]
          },
          "metadata": {},
          "execution_count": 85
        }
      ]
    },
    {
      "cell_type": "code",
      "source": [
        "ToCSV(P, 'Auto_baseline')"
      ],
      "metadata": {
        "id": "XidBOeh1Rl_-"
      },
      "execution_count": null,
      "outputs": []
    },
    {
      "cell_type": "code",
      "source": [
        "!kaggle competitions submit -c oct-1622auto -f Auto_baseline.csv -m «comment»"
      ],
      "metadata": {
        "colab": {
          "base_uri": "https://localhost:8080/"
        },
        "id": "OrQRSw2FdScl",
        "outputId": "9173e499-1200-468f-dfa4-9cdb55b63f59"
      },
      "execution_count": null,
      "outputs": [
        {
          "output_type": "stream",
          "name": "stdout",
          "text": [
            "100% 7.76M/7.76M [00:00<00:00, 27.6MB/s]\n",
            "Successfully submitted to Oct-16,22:🚗Auto"
          ]
        }
      ]
    },
    {
      "cell_type": "markdown",
      "source": [
        "# **References:**"
      ],
      "metadata": {
        "id": "pzBsjCvS_kEw"
      }
    },
    {
      "cell_type": "markdown",
      "source": [
        "1 https://hastie.su.domains/ISLR2/ISLRv2_website.pdf\n",
        "2 https://colab.research.google.com/drive/1Uamk8p6db_MlkTIBRegkTp1xQrXDC0L1\n"
      ],
      "metadata": {
        "id": "2kr8Q-9T_nAb"
      }
    },
    {
      "cell_type": "markdown",
      "source": [
        "<font size=5>⌛</font> <strong><font color=orange size=5>Do not exceed competition's runtime limit!</font></strong>\n",
        "\n",
        "<hr color=red>\n"
      ],
      "metadata": {
        "id": "DoF2GoB_QGw9"
      }
    },
    {
      "cell_type": "code",
      "source": [
        "tmr.ShowTime()    # measure Colab's runtime. Do not remove. Keep as the last cell in your notebook."
      ],
      "metadata": {
        "colab": {
          "base_uri": "https://localhost:8080/"
        },
        "id": "bD1sdgYbNWQA",
        "outputId": "11bce83b-e0f6-4b79-f306-c4d2482116f4"
      },
      "execution_count": null,
      "outputs": [
        {
          "output_type": "stream",
          "name": "stdout",
          "text": [
            "Runtime is 8 sec\n"
          ]
        }
      ]
    },
    {
      "cell_type": "markdown",
      "metadata": {
        "id": "-nnK53pcbVY0"
      },
      "source": [
        "## 💡**Starter Ideas**"
      ]
    },
    {
      "cell_type": "markdown",
      "metadata": {
        "id": "cn7E4huqbY-I"
      },
      "source": [
        "1. Tune model hyperparameters and try different allowed models\n",
        "1. Try to linear and non-linear feature normalization: shift/scale, log, divide features by features (investigate scatterplot matrix)\n",
        "1. Try higher order feature interactions and polynomial features on a small subsample. Then identify key features or select key principal components. The final model can be trained on a larger or even full training sample. You can use [PCA](https://scikit-learn.org/stable/modules/generated/sklearn.decomposition.PCA.html) to reduce the feature set\n",
        "1. Do a thorough EDA: look for feature augmentations that result in linear decision boundaries between pairs of classes.\n",
        "1. Evaluate predictions and focus on poorly predicted \"groups\":\n",
        "  1. Strongest errors. E.g. the model is very confident about the wrong label\n",
        "1. Do scatter plots show piecewise linear shape? Can a separate linear model be used on each support, or can the pattern be linearized via transformations?\n",
        "1. Try modeling each output separately from inputs or from a other modeled output\n",
        "1. Try stepwise selection and regularization and remove \"unimportant\" features from final model"
      ]
    },
    {
      "cell_type": "code",
      "source": [],
      "metadata": {
        "id": "uZPw3K1ymkYw"
      },
      "execution_count": null,
      "outputs": []
    }
  ]
}